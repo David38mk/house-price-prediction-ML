{
 "cells": [
  {
   "cell_type": "markdown",
   "id": "8c1ec159",
   "metadata": {},
   "source": [
    "# Model training, testing and selection"
   ]
  },
  {
   "cell_type": "code",
   "execution_count": 3,
   "id": "de6e837c8af29260",
   "metadata": {},
   "outputs": [],
   "source": [
    "import pandas as pd\n",
    "import numpy as np\n",
    "import seaborn as sns\n",
    "import matplotlib.pyplot as plt\n",
    "\n",
    "from sklearn.model_selection import train_test_split\n",
    "from sklearn.metrics import r2_score, mean_squared_error, mean_absolute_error, mean_absolute_percentage_error, root_mean_squared_error\n",
    "from sklearn.linear_model import LinearRegression\n",
    "from sklearn.tree import DecisionTreeRegressor\n",
    "from sklearn.ensemble import RandomForestRegressor\n",
    "from sklearn.svm import SVR\n",
    "from sklearn.neighbors import KNeighborsRegressor\n",
    "\n",
    "import xgboost as xgb\n"
   ]
  },
  {
   "cell_type": "markdown",
   "id": "7df4a500",
   "metadata": {},
   "source": [
    "## 1. Round 1 - Initial model comparisson"
   ]
  },
  {
   "cell_type": "code",
   "execution_count": null,
   "id": "2e72856b",
   "metadata": {},
   "outputs": [],
   "source": []
  },
  {
   "cell_type": "markdown",
   "id": "db9178b8",
   "metadata": {},
   "source": [
    "## 2. Round 2 - Hyperparameter optimization"
   ]
  },
  {
   "cell_type": "code",
   "execution_count": null,
   "id": "52330752",
   "metadata": {},
   "outputs": [],
   "source": []
  },
  {
   "cell_type": "markdown",
   "id": "2814a403",
   "metadata": {},
   "source": [
    "## 3. Round 3 - "
   ]
  },
  {
   "cell_type": "code",
   "execution_count": null,
   "id": "ca4711a3",
   "metadata": {},
   "outputs": [],
   "source": []
  },
  {
   "cell_type": "markdown",
   "id": "adc609cc",
   "metadata": {},
   "source": [
    "## 4. Model Testing and final thoughts"
   ]
  },
  {
   "cell_type": "code",
   "execution_count": null,
   "id": "99f20a5d",
   "metadata": {},
   "outputs": [],
   "source": []
  }
 ],
 "metadata": {
  "kernelspec": {
   "display_name": "base",
   "language": "python",
   "name": "python3"
  },
  "language_info": {
   "codemirror_mode": {
    "name": "ipython",
    "version": 3
   },
   "file_extension": ".py",
   "mimetype": "text/x-python",
   "name": "python",
   "nbconvert_exporter": "python",
   "pygments_lexer": "ipython3",
   "version": "3.12.7"
  }
 },
 "nbformat": 4,
 "nbformat_minor": 5
}
